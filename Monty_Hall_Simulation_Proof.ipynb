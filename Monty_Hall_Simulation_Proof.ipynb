{
  "nbformat": 4,
  "nbformat_minor": 0,
  "metadata": {
    "colab": {
      "name": "Monty_Hall_Simulation_Proof.ipynb",
      "version": "0.3.2",
      "provenance": [],
      "include_colab_link": true
    },
    "kernelspec": {
      "name": "python3",
      "display_name": "Python 3"
    }
  },
  "cells": [
    {
      "cell_type": "markdown",
      "metadata": {
        "id": "view-in-github",
        "colab_type": "text"
      },
      "source": [
        "<a href=\"https://colab.research.google.com/github/jimmy-qiu-essketit/Simulation-Model-Monty-Hall/blob/master/Monty_Hall_Simulation_Proof.ipynb\" target=\"_parent\"><img src=\"https://colab.research.google.com/assets/colab-badge.svg\" alt=\"Open In Colab\"/></a>"
      ]
    },
    {
      "cell_type": "markdown",
      "metadata": {
        "id": "N06JeYf1z57o",
        "colab_type": "text"
      },
      "source": [
        "**Foreword**\n",
        "\n",
        "The Monty Hall problem is a classic thought experiment in probability. It derives its name from Monty Hall who was the host in the game show, \"Lets Make A Deal\". On the show, the contestant is presented with 3 curtains. The contestant is told that behind one of these curtains is a prize and the other curtains are empty. \n",
        "\n",
        "The contestant is than told to choose one curtain. After the contestant choses a curtain, the host reveals one of the two remaining curtains as empty. The contestant is then asked by the host whether they would like to switch curtains or not, before he reveals the curtain that has the prize. \n",
        "\n",
        "The simulation experiment in this case is to test which is the better option for the contestant to switch curtains or not switch curtains before the reveal. \n",
        "\n",
        "\n",
        "**Technical Implementation**\n",
        "\n",
        "---\n",
        "\n"
      ]
    },
    {
      "cell_type": "code",
      "metadata": {
        "id": "_tJhw6276RMr",
        "colab_type": "code",
        "outputId": "813fe767-13f5-4090-9cd4-e058891e968f",
        "colab": {
          "base_uri": "https://localhost:8080/",
          "height": 89
        }
      },
      "source": [
        "import random\n",
        "import numpy as np\n",
        "\n",
        "switch_wins = 0\n",
        "no_switch_wins = 0\n",
        "num_of_curtains = 3\n",
        "  \n",
        "for x in range(10000):\n",
        "  #Generate an array of 3 curtains\n",
        "  curtains = np.array([0 for i in range(num_of_curtains)])\n",
        "    \n",
        "  #generate random prize curtain\n",
        "  prize_indx = random.randint(0,len(curtains)-1)\n",
        "  #populate the prize index with value 1\n",
        "  curtains[prize_indx] = curtains[prize_indx] + 1 \n",
        "\n",
        "  #generate random pick\n",
        "  contest_pick = random.randint(0,len(curtains)-1)\n",
        "  #add a 1 to the index that the contestant picked\n",
        "  curtains[contest_pick] = curtains[contest_pick] + 1\n",
        "    \n",
        "  #The contestant picks the prize on the first try \n",
        "  if 2 in curtains:\n",
        "    no_switch_wins = no_switch_wins + 1\n",
        "      \n",
        "  #The contestant does not pick the prize on the first try    \n",
        "  else:\n",
        "    switch_wins = switch_wins + 1\n",
        "\n",
        "print(\"There are initially\", num_of_curtains, \"curtains\")\n",
        "print(\"Number of wins after the contestant switch:\", switch_wins)\n",
        "print(\"Number of wins when the contestant did not switch:\", no_switch_wins)\n",
        "print(\"There are {0:.2f}\".format(switch_wins/no_switch_wins),\"x more wins after the contestant switched\")"
      ],
      "execution_count": 47,
      "outputs": [
        {
          "output_type": "stream",
          "text": [
            "There are initially 3 curtains\n",
            "Number of wins after the contestant switch: 6663\n",
            "Number of wins when the contestant did not switch: 3337\n",
            "There are 2.00 x more wins after the contestant switched\n"
          ],
          "name": "stdout"
        }
      ]
    },
    {
      "cell_type": "markdown",
      "metadata": {
        "id": "mKndeakVbocp",
        "colab_type": "text"
      },
      "source": [
        "As you can see in the above simulation, after playing the game with 3 curtains for 10000 times. The contestant would have won 6682 times if he had adopted the strategy of switching curtains or he would have won 3318 times if he did not switch curtains. This is means that the contestant will win 2.01x more times when he switches curtains. \n",
        "\n",
        "**So why is this the case?**\n",
        "\n",
        "Since there is 1 prize behind 3 curtains. The probability of the contestant initially picking the right curtain with the prize behind it on the first turn is 1/3. The chance of the contestant initially picking the wrong curtain without the prize behind is 2/3. \n",
        "\n",
        "If you chose the right curtain, then in order to win you should not switch. But if you chose the wrong curtain, you need to switch to the remaining curtain to win. \n",
        "\n",
        "Since the probability of initially choosing the right curtain is 1/3, and initially choosing the wrong curtain is 2/3. Then it always makes sense to switch, because it is more likely that you initially chose the wrong curtain.\n",
        "\n"
      ]
    },
    {
      "cell_type": "code",
      "metadata": {
        "id": "YddhSiox87SY",
        "colab_type": "code",
        "outputId": "36cbc658-600c-4cf3-afb3-71ead36fd7bc",
        "colab": {
          "base_uri": "https://localhost:8080/",
          "height": 313
        }
      },
      "source": [
        "import random\n",
        "import numpy as np\n",
        "\n",
        "switch_win_dist = []\n",
        "no_switch_win_dist = []\n",
        "num_of_curtains = [3,4,5,6,7,8,9,10,11,12,13,14,15,16,17,18,19,20]\n",
        "\n",
        "for y in num_of_curtains:\n",
        "  no_switch_wins = 0\n",
        "  switch_wins = 0\n",
        "  \n",
        "  for x in range(10000):\n",
        "    curtains = np.array([0 for i in range(y)])\n",
        "    \n",
        "    #generate random prize curtain\n",
        "    prize_indx = random.randint(0, y-1)\n",
        "    #populate the prize index with value 1\n",
        "    curtains[prize_indx] = curtains[prize_indx] + 1 \n",
        "\n",
        "    \n",
        "    #generate random pick\n",
        "    contest_pick_indx = random.randint(0,y-1)\n",
        "    #add a 1 to the index that the contestant picked\n",
        "    curtains[contest_pick] = curtains[contest_pick] + 1\n",
        "    \n",
        "    #The contestant picks the prize on the first try \n",
        "    if 2 in curtains:\n",
        "      no_switch_wins = no_switch_wins + 1\n",
        "    \n",
        "    #The contestant does not pick the prize on the first try \n",
        "    else:\n",
        "      switch_wins = switch_wins + 1\n",
        "  \n",
        "  switch_win_dist.append(switch_wins)\n",
        "  no_switch_win_dist.append(no_switch_wins)\n",
        "\n",
        "x = num_of_curtains\n",
        "y = switch_win_dist\n",
        "\n",
        "#plot the number of wins for contestants that switched for 3 to 20 curtains  \n",
        "import matplotlib.pyplot as plt\n",
        "ax1 = plt.subplot()\n",
        "plt.plot(x, y, 'o', label='original data')\n",
        "ax1.set_title(\"Switching Curtain Wins Simultation Results\")\n",
        "ax1.set_xlabel(\"Number of Curtains\")\n",
        "ax1.set_ylabel('Number of Wins after 10,000 games')"
      ],
      "execution_count": 48,
      "outputs": [
        {
          "output_type": "execute_result",
          "data": {
            "text/plain": [
              "Text(0, 0.5, 'Number of Wins after 10,000 games')"
            ]
          },
          "metadata": {
            "tags": []
          },
          "execution_count": 48
        },
        {
          "output_type": "display_data",
          "data": {
            "image/png": "[encoded data removed]",
            "text/plain": [
              "<Figure size 432x288 with 1 Axes>"
            ]
          },
          "metadata": {
            "tags": []
          }
        }
      ]
    },
    {
      "cell_type": "markdown",
      "metadata": {
        "id": "kKsAzTEKIkdW",
        "colab_type": "text"
      },
      "source": [
        "In the code above, I run this simulation again, but this time it is over a range of curtains from 3 to 20. As you can see the number of wins for the contestant that switches steadly increases as the number of curtains increase. At 20 curtains, the contestant would win 9,500 games out of 10,000, which is a 95% win rate. The reason why win rates for the contestant that switches increases with the number of curtains, is that the probability of choosing the correct curtain on the first turn steadily decreases from 1/3  at 3 curtains to 1/20 at 20 curtains. Thus at 20 curtains, the contestant that switches has 19/20 chance of winning which translates to a 95% chance of winning. This is backed up by our simulation which shows the contestant that switches won 9,500 out of 10,000 games when there were 20 curtains which equals a 95% win rate.\n",
        "\n",
        "In fact when we plot the expected wins for switching vs the actual wins in our simulation, we can see a very good fit:\n",
        "\n",
        "\n"
      ]
    },
    {
      "cell_type": "code",
      "metadata": {
        "id": "bw2RHhAbfJie",
        "colab_type": "code",
        "colab": {
          "base_uri": "https://localhost:8080/",
          "height": 313
        },
        "outputId": "3923e106-ccf6-4488-ea54-6b1da4f6e841"
      },
      "source": [
        "#generate expected wins\n",
        "prob_of_not_choosing_prize_on_1_try = [(1-(1/i))*10000 for i in num_of_curtains]\n",
        "\n",
        "#plot expected wins and actual simulation wins\n",
        "ax2 = plt.subplot()\n",
        "plt.plot(num_of_curtains, prob_of_not_choosing_prize_on_1_try, 'r', label='Expected Wins')\n",
        "plt.plot(x, y, 'o', label='Simulation Wins')\n",
        "ax2.set_title(\"Switching Curtain Wins\")\n",
        "ax2.set_xlabel(\"Number of Curtains\")\n",
        "ax2.set_ylabel('Number of Wins after 10,000 games')\n",
        "plt.legend()"
      ],
      "execution_count": 49,
      "outputs": [
        {
          "output_type": "execute_result",
          "data": {
            "text/plain": [
              "<matplotlib.legend.Legend at 0x7f6ee30ef4a8>"
            ]
          },
          "metadata": {
            "tags": []
          },
          "execution_count": 49
        },
        {
          "output_type": "display_data",
          "data": {
            "image/png": "[encoded data removed]",
            "text/plain": [
              "<Figure size 432x288 with 1 Axes>"
            ]
          },
          "metadata": {
            "tags": []
          }
        }
      ]
    },
    {
      "cell_type": "markdown",
      "metadata": {
        "id": "e49CwN-BnN3t",
        "colab_type": "text"
      },
      "source": [
        "In conclusion, my simulation proves that in a Monty Hall game, it is always advantageous for the contestant to switch after the first pick."
      ]
    }
  ]
}